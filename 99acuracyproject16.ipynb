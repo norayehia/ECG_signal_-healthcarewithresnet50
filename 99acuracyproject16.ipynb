{
  "cells": [
    {
      "cell_type": "markdown",
      "metadata": {
        "id": "view-in-github",
        "colab_type": "text"
      },
      "source": [
        "<a href=\"https://colab.research.google.com/github/norayehia/ECG_signal_-healthcarewithresnet50/blob/main/99acuracyproject16.ipynb\" target=\"_parent\"><img src=\"https://colab.research.google.com/assets/colab-badge.svg\" alt=\"Open In Colab\"/></a>"
      ]
    },
    {
      "cell_type": "markdown",
      "metadata": {
        "id": "r5gfvG5f-mM0"
      },
      "source": [
        "https://stackoverflow.com/questions/49685924/extract-google-drive-zip-from-google-colab-notebook"
      ]
    },
    {
      "cell_type": "code",
      "execution_count": null,
      "metadata": {
        "id": "9KM_HMbBAWNv"
      },
      "outputs": [],
      "source": [
        "\"\"\"\n",
        "!pip install zipfile\n",
        "from  zipfile import ZipFile\n",
        "import urllib.request\n",
        "import zipfile\n",
        "from io import BytesIO\n",
        "with Zipfile('/content/drive/MyDrive/projectecg/archive.zip','r') as zipobj:\n",
        "  zipobj.extractall('/content/drive/MyDrive/projectecg/nora')\n",
        "\n",
        "  \"\"\""
      ]
    },
    {
      "cell_type": "code",
      "source": [
        "import cv2\n",
        "import glob\n",
        "import pandas as pd\n",
        "import numpy as np\n",
        "\n",
        "from sklearn.base import TransformerMixin\n",
        "from sklearn.pipeline import Pipeline\n",
        "\n",
        "import tensorflow.compat.v2 as tf\n",
        "from keras import backend as k\n",
        "from keras.applications.mobilenet import MobileNet\n",
        "from keras.applications import imagenet_utils\n",
        "import keras.applications\n",
        "from keras.engine import training\n",
        "from keras.layers import VersionAwareLayers\n",
        "from keras.utils import data_utils\n",
        "from keras.utils import layer_utils\n",
        "from tensorflow.keras.utils import Sequence\n",
        "from tensorflow.python.util.tf_export import keras_export\n",
        "from keras.layers import Dense,GlobalAveragePooling2D\n",
        "from keras.models import Model\n",
        "from keras.layers import Dense\n",
        "from keras.layers import Flatten\n",
        "from tensorflow.keras.preprocessing.image import ImageDataGenerator\n",
        "from keras.callbacks import CSVLogger\n",
        "from sklearn.metrics import classification_report\n",
        "import seaborn as sns\n",
        "\n",
        "from tensorflow.keras.applications.vgg16 import VGG16\n",
        "from tensorflow.keras.preprocessing import image\n",
        "from tensorflow.keras.applications.vgg16 import preprocess_input\n",
        "import numpy as np\n",
        "\n",
        "\n",
        "\n",
        "\n",
        "import matplotlib.pyplot as plt\n",
        "from google.colab.patches import cv2_imshow\n",
        "%matplotlib inline"
      ],
      "metadata": {
        "id": "LUhpxSWXjzCj"
      },
      "execution_count": null,
      "outputs": []
    },
    {
      "cell_type": "markdown",
      "metadata": {
        "id": "xNd1E2ydJi7i"
      },
      "source": [
        "extract data from the zip file"
      ]
    },
    {
      "cell_type": "code",
      "execution_count": null,
      "metadata": {
        "colab": {
          "base_uri": "https://localhost:8080/"
        },
        "id": "JNhpRykm9HG3",
        "outputId": "90fc1635-7627-4902-9193-14db62803af0"
      },
      "outputs": [
        {
          "output_type": "stream",
          "name": "stdout",
          "text": [
            "Drive already mounted at /content/drive/; to attempt to forcibly remount, call drive.mount(\"/content/drive/\", force_remount=True).\n"
          ]
        }
      ],
      "source": [
        "import zipfile\n",
        "from google.colab import drive\n",
        "\n",
        "drive.mount('/content/drive/')\n",
        "\n",
        "zip_ref = zipfile.ZipFile(\"/content/drive/MyDrive/projectecg/archive.zip\", 'r')\n",
        "zip_ref.extractall(\"/content/drive/MyDrive/projectecg/data\")\n",
        "zip_ref.close()"
      ]
    },
    {
      "cell_type": "markdown",
      "metadata": {
        "id": "e8GpSppTMO_t"
      },
      "source": [
        "https://pypi.org/project/split-folders/"
      ]
    },
    {
      "cell_type": "markdown",
      "metadata": {
        "id": "zwBha37PJpFb"
      },
      "source": [
        "split train into train and validation to use data generator to use less resorce when run model and use validation generator seprate from train to make suffle after split "
      ]
    },
    {
      "cell_type": "code",
      "execution_count": null,
      "metadata": {
        "colab": {
          "base_uri": "https://localhost:8080/"
        },
        "id": "5lC87i1_KbSg",
        "outputId": "881001ba-07aa-4a6f-82eb-dd76d7c27b6e"
      },
      "outputs": [
        {
          "output_type": "stream",
          "name": "stdout",
          "text": [
            "Collecting split-folders\n",
            "  Downloading split_folders-0.4.3-py3-none-any.whl (7.4 kB)\n",
            "Installing collected packages: split-folders\n",
            "Successfully installed split-folders-0.4.3\n"
          ]
        }
      ],
      "source": [
        "pip install split-folders"
      ]
    },
    {
      "cell_type": "code",
      "execution_count": null,
      "metadata": {
        "colab": {
          "base_uri": "https://localhost:8080/"
        },
        "id": "R4W7cnnGAG2t",
        "outputId": "41b2ba33-f198-4373-c98b-a477dccaaf13"
      },
      "outputs": [
        {
          "output_type": "stream",
          "name": "stderr",
          "text": [
            "Copying files: 99199 files [1:25:39, 19.30 files/s]\n"
          ]
        }
      ],
      "source": [
        "import splitfolders\n",
        "input_folder = '/content/drive/MyDrive/projectecg/data/ECG_Image_data/train'\n",
        "splitfolders.ratio(input_folder,output='/content/drive/MyDrive/projectecg/data/ECG_Image_data/trainvalidat2',seed=42,ratio=(.9,.1),group_prefix=None)"
      ]
    },
    {
      "cell_type": "markdown",
      "metadata": {
        "id": "N4vPOzG6QJ_S"
      },
      "source": [
        "get data"
      ]
    },
    {
      "cell_type": "code",
      "execution_count": null,
      "metadata": {
        "id": "9zPHq-_CQIwL",
        "colab": {
          "base_uri": "https://localhost:8080/"
        },
        "outputId": "e83d4d38-9856-4e44-b8cd-b3f9cb87413b"
      },
      "outputs": [
        {
          "output_type": "stream",
          "name": "stdout",
          "text": [
            "[577, 7564, 68138, 5787, 2000, 5210]\n"
          ]
        }
      ],
      "source": [
        "trainpath = \"/content/drive/MyDrive/projectecg/data/ECG_Image_data/trainvalidat2/train\"\n",
        "classes = ['F', 'M', 'N', 'Q', 'S', 'V']\n",
        "\n",
        "train_size = []\n",
        "\n",
        "for folder_index,folder in enumerate(classes):\n",
        "  train = glob.glob(trainpath + \"/\" + folder + \"/*\")\n",
        "  train_size.append(len(train))\n",
        "\n",
        "print(train_size)"
      ]
    },
    {
      "cell_type": "code",
      "execution_count": null,
      "metadata": {
        "id": "kUjuiediQHBB",
        "colab": {
          "base_uri": "https://localhost:8080/"
        },
        "outputId": "b083b23a-0376-460b-9551-1daa4afc261a"
      },
      "outputs": [
        {
          "output_type": "stream",
          "name": "stdout",
          "text": [
            "[65, 841, 7571, 644, 223, 579]\n"
          ]
        }
      ],
      "source": [
        "valpath = \"/content/drive/MyDrive/projectecg/data/ECG_Image_data/trainvalidat2/val\"\n",
        "classes = ['F', 'M', 'N', 'Q', 'S', 'V']\n",
        "\n",
        "val_size = []\n",
        "\n",
        "for folder_index,folder in enumerate(classes):\n",
        "  val = glob.glob(valpath + \"/\" + folder + \"/*\")\n",
        "  val_size.append(len(val))\n",
        "\n",
        "print(val_size)"
      ]
    },
    {
      "cell_type": "code",
      "execution_count": null,
      "metadata": {
        "id": "OZnA88KTQkYo",
        "colab": {
          "base_uri": "https://localhost:8080/"
        },
        "outputId": "9104f9d5-db3d-4c58-a36b-7c91f651509b"
      },
      "outputs": [
        {
          "output_type": "stream",
          "name": "stdout",
          "text": [
            "[161, 2101, 18926, 1608, 556, 1447]\n"
          ]
        }
      ],
      "source": [
        "testpath = \"/content/drive/MyDrive/projectecg/data/ECG_Image_data/test\"\n",
        "classes = ['F', 'M', 'N', 'Q', 'S', 'V']\n",
        "test_size = []\n",
        "\n",
        "for folder_index,folder in enumerate(classes):\n",
        "  test = glob.glob(testpath + \"/\" + folder + \"/*\")\n",
        "  test_size.append(len(test))\n",
        "\n",
        "print(test_size)"
      ]
    },
    {
      "cell_type": "code",
      "source": [
        "from tensorflow.keras.applications.vgg16 import preprocess_input"
      ],
      "metadata": {
        "id": "bvxzFUhHk0Nm"
      },
      "execution_count": null,
      "outputs": []
    },
    {
      "cell_type": "code",
      "source": [
        "preprocess_input= tf.keras.applications.vgg16.preprocess_input"
      ],
      "metadata": {
        "id": "6wVw-aTQkI9X"
      },
      "execution_count": null,
      "outputs": []
    },
    {
      "cell_type": "markdown",
      "metadata": {
        "id": "u5B7Ly3yJfPL"
      },
      "source": [
        "https://keras.io/api/applications/#usage-examples-for-image-classification-models"
      ]
    },
    {
      "cell_type": "code",
      "source": [
        "datagen = ImageDataGenerator(preprocessing_function=preprocess_input)\n",
        "generator = datagen.flow_from_directory(trainpath, target_size=(32, 32), batch_size=32, class_mode='categorical')"
      ],
      "metadata": {
        "colab": {
          "base_uri": "https://localhost:8080/"
        },
        "id": "daiafvbUlY7o",
        "outputId": "64f61c56-ee7f-4dbe-b823-70d579683ddd"
      },
      "execution_count": null,
      "outputs": [
        {
          "output_type": "stream",
          "name": "stdout",
          "text": [
            "Found 89276 images belonging to 6 classes.\n"
          ]
        }
      ]
    },
    {
      "cell_type": "code",
      "execution_count": null,
      "metadata": {
        "id": "IhpLK4-zJ0nN",
        "colab": {
          "base_uri": "https://localhost:8080/"
        },
        "outputId": "25dcc36f-0d4b-4e8d-8f25-08715d126594"
      },
      "outputs": [
        {
          "output_type": "stream",
          "name": "stdout",
          "text": [
            "Found 9923 images belonging to 6 classes.\n"
          ]
        }
      ],
      "source": [
        "val_datagen = ImageDataGenerator(preprocessing_function=preprocess_input)\n",
        "validation_generator = val_datagen.flow_from_directory(valpath,\n",
        "    target_size=(32, 32), batch_size=32, class_mode='categorical') # set as validation data"
      ]
    },
    {
      "cell_type": "code",
      "execution_count": null,
      "metadata": {
        "id": "3XhVEJBZJ0zD",
        "colab": {
          "base_uri": "https://localhost:8080/"
        },
        "outputId": "c2ab623f-3b0e-481b-b031-63b8596f0799"
      },
      "outputs": [
        {
          "output_type": "stream",
          "name": "stdout",
          "text": [
            "Found 24799 images belonging to 6 classes.\n"
          ]
        }
      ],
      "source": [
        "test_datagen = ImageDataGenerator(preprocessing_function=preprocess_input)\n",
        "test_generator = test_datagen.flow_from_directory(testpath, target_size=(32, 32), batch_size=32, class_mode='categorical',shuffle=False)"
      ]
    },
    {
      "cell_type": "code",
      "source": [
        "from tensorflow.keras.applications.vgg16 import VGG16\n",
        "from tensorflow.keras.preprocessing import image\n",
        "from tensorflow.keras.applications.vgg16 import preprocess_input\n",
        "import numpy as np\n",
        "\n",
        "model = VGG16(weights='imagenet', include_top=False)\n",
        "model.summary()"
      ],
      "metadata": {
        "colab": {
          "base_uri": "https://localhost:8080/"
        },
        "id": "-xG4ZP6pmXz8",
        "outputId": "ad214edd-64a6-40cc-8a84-04fcfa4280b2"
      },
      "execution_count": null,
      "outputs": [
        {
          "output_type": "stream",
          "name": "stdout",
          "text": [
            "Model: \"vgg16\"\n",
            "_________________________________________________________________\n",
            " Layer (type)                Output Shape              Param #   \n",
            "=================================================================\n",
            " input_1 (InputLayer)        [(None, None, None, 3)]   0         \n",
            "                                                                 \n",
            " block1_conv1 (Conv2D)       (None, None, None, 64)    1792      \n",
            "                                                                 \n",
            " block1_conv2 (Conv2D)       (None, None, None, 64)    36928     \n",
            "                                                                 \n",
            " block1_pool (MaxPooling2D)  (None, None, None, 64)    0         \n",
            "                                                                 \n",
            " block2_conv1 (Conv2D)       (None, None, None, 128)   73856     \n",
            "                                                                 \n",
            " block2_conv2 (Conv2D)       (None, None, None, 128)   147584    \n",
            "                                                                 \n",
            " block2_pool (MaxPooling2D)  (None, None, None, 128)   0         \n",
            "                                                                 \n",
            " block3_conv1 (Conv2D)       (None, None, None, 256)   295168    \n",
            "                                                                 \n",
            " block3_conv2 (Conv2D)       (None, None, None, 256)   590080    \n",
            "                                                                 \n",
            " block3_conv3 (Conv2D)       (None, None, None, 256)   590080    \n",
            "                                                                 \n",
            " block3_pool (MaxPooling2D)  (None, None, None, 256)   0         \n",
            "                                                                 \n",
            " block4_conv1 (Conv2D)       (None, None, None, 512)   1180160   \n",
            "                                                                 \n",
            " block4_conv2 (Conv2D)       (None, None, None, 512)   2359808   \n",
            "                                                                 \n",
            " block4_conv3 (Conv2D)       (None, None, None, 512)   2359808   \n",
            "                                                                 \n",
            " block4_pool (MaxPooling2D)  (None, None, None, 512)   0         \n",
            "                                                                 \n",
            " block5_conv1 (Conv2D)       (None, None, None, 512)   2359808   \n",
            "                                                                 \n",
            " block5_conv2 (Conv2D)       (None, None, None, 512)   2359808   \n",
            "                                                                 \n",
            " block5_conv3 (Conv2D)       (None, None, None, 512)   2359808   \n",
            "                                                                 \n",
            " block5_pool (MaxPooling2D)  (None, None, None, 512)   0         \n",
            "                                                                 \n",
            "=================================================================\n",
            "Total params: 14,714,688\n",
            "Trainable params: 14,714,688\n",
            "Non-trainable params: 0\n",
            "_________________________________________________________________\n"
          ]
        }
      ]
    },
    {
      "cell_type": "code",
      "source": [
        "# importing the libraries\n",
        "from keras.models import Model\n",
        "from keras.layers import Flatten, Dense\n",
        "#from keras.applications import VGG16\n",
        "#from keras.preprocessing import image\n",
        "\n",
        "IMAGE_SIZE = [32, 32]  # we will keep the image size as (64,64). You can increase the size for better results. \n",
        "\n",
        "# loading the weights of VGG16 without the top layer. These weights are trained on Imagenet dataset\n",
        "IMAGE_SIZE = [32, 32] .\n",
        "vgg = VGG16(input_shape = IMAGE_SIZE + [3], weights = 'imagenet', include_top = False)  # input_shape = (32,32,3) as required by VGG\n",
        "\n",
        "# this will exclude the initial layers from training phase as there are already been trained.\n",
        "for layer in vgg.layers:\n",
        "    layer.trainable = False\n",
        "\n",
        "x = Flatten()(vgg.output)\n",
        "#x = Dense(128, activation = 'relu')(x)   # we can add a new fully connected layer but it will increase the execution time.\n",
        "x = Dense(6,activation='softmax')(x)\n",
        "  # adding the output layer with softmax function as this is a multi label classification problem.\n",
        "model = Model(inputs = vgg.input, outputs = x)\n",
        "\n",
        "model.compile(loss='categorical_crossentropy', optimizer='adam', metrics=['accuracy'])\n"
      ],
      "metadata": {
        "id": "pRcN4Lw0m4ub",
        "colab": {
          "base_uri": "https://localhost:8080/"
        },
        "outputId": "33290c35-e672-40af-e20f-1fc70195abda"
      },
      "execution_count": null,
      "outputs": [
        {
          "output_type": "stream",
          "name": "stdout",
          "text": [
            "Downloading data from https://storage.googleapis.com/tensorflow/keras-applications/vgg16/vgg16_weights_tf_dim_ordering_tf_kernels_notop.h5\n",
            "58892288/58889256 [==============================] - 1s 0us/step\n",
            "58900480/58889256 [==============================] - 1s 0us/step\n"
          ]
        }
      ]
    },
    {
      "cell_type": "code",
      "source": [
        "model.summary()"
      ],
      "metadata": {
        "colab": {
          "base_uri": "https://localhost:8080/"
        },
        "id": "WS0GknA8m5Di",
        "outputId": "f531d5a9-d609-4e1d-e813-f5a85e04fbd4"
      },
      "execution_count": null,
      "outputs": [
        {
          "output_type": "stream",
          "name": "stdout",
          "text": [
            "Model: \"model\"\n",
            "_________________________________________________________________\n",
            " Layer (type)                Output Shape              Param #   \n",
            "=================================================================\n",
            " input_1 (InputLayer)        [(None, 32, 32, 3)]       0         \n",
            "                                                                 \n",
            " block1_conv1 (Conv2D)       (None, 32, 32, 64)        1792      \n",
            "                                                                 \n",
            " block1_conv2 (Conv2D)       (None, 32, 32, 64)        36928     \n",
            "                                                                 \n",
            " block1_pool (MaxPooling2D)  (None, 16, 16, 64)        0         \n",
            "                                                                 \n",
            " block2_conv1 (Conv2D)       (None, 16, 16, 128)       73856     \n",
            "                                                                 \n",
            " block2_conv2 (Conv2D)       (None, 16, 16, 128)       147584    \n",
            "                                                                 \n",
            " block2_pool (MaxPooling2D)  (None, 8, 8, 128)         0         \n",
            "                                                                 \n",
            " block3_conv1 (Conv2D)       (None, 8, 8, 256)         295168    \n",
            "                                                                 \n",
            " block3_conv2 (Conv2D)       (None, 8, 8, 256)         590080    \n",
            "                                                                 \n",
            " block3_conv3 (Conv2D)       (None, 8, 8, 256)         590080    \n",
            "                                                                 \n",
            " block3_pool (MaxPooling2D)  (None, 4, 4, 256)         0         \n",
            "                                                                 \n",
            " block4_conv1 (Conv2D)       (None, 4, 4, 512)         1180160   \n",
            "                                                                 \n",
            " block4_conv2 (Conv2D)       (None, 4, 4, 512)         2359808   \n",
            "                                                                 \n",
            " block4_conv3 (Conv2D)       (None, 4, 4, 512)         2359808   \n",
            "                                                                 \n",
            " block4_pool (MaxPooling2D)  (None, 2, 2, 512)         0         \n",
            "                                                                 \n",
            " block5_conv1 (Conv2D)       (None, 2, 2, 512)         2359808   \n",
            "                                                                 \n",
            " block5_conv2 (Conv2D)       (None, 2, 2, 512)         2359808   \n",
            "                                                                 \n",
            " block5_conv3 (Conv2D)       (None, 2, 2, 512)         2359808   \n",
            "                                                                 \n",
            " block5_pool (MaxPooling2D)  (None, 1, 1, 512)         0         \n",
            "                                                                 \n",
            " flatten (Flatten)           (None, 512)               0         \n",
            "                                                                 \n",
            " dense (Dense)               (None, 6)                 3078      \n",
            "                                                                 \n",
            "=================================================================\n",
            "Total params: 14,717,766\n",
            "Trainable params: 3,078\n",
            "Non-trainable params: 14,714,688\n",
            "_________________________________________________________________\n"
          ]
        }
      ]
    },
    {
      "cell_type": "code",
      "source": [
        "\n",
        "history = model.fit(generator, validation_data = validation_generator, epochs = 5)"
      ],
      "metadata": {
        "colab": {
          "base_uri": "https://localhost:8080/"
        },
        "id": "XBTlecYXkHGs",
        "outputId": "6db90f95-2fbd-4ff8-c49a-178406fc67be"
      },
      "execution_count": null,
      "outputs": [
        {
          "output_type": "stream",
          "name": "stdout",
          "text": [
            "Epoch 1/5\n",
            "2790/2790 [==============================] - 23003s 8s/step - loss: 0.1094 - accuracy: 0.9830 - val_loss: 0.0056 - val_accuracy: 0.9987\n",
            "Epoch 2/5\n",
            "2790/2790 [==============================] - 1386s 497ms/step - loss: 0.0044 - accuracy: 0.9987 - val_loss: 0.0052 - val_accuracy: 0.9986\n",
            "Epoch 3/5\n",
            "2790/2790 [==============================] - 1387s 497ms/step - loss: 0.0038 - accuracy: 0.9990 - val_loss: 0.0039 - val_accuracy: 0.9991\n",
            "Epoch 4/5\n",
            "2790/2790 [==============================] - 1391s 498ms/step - loss: 0.0027 - accuracy: 0.9993 - val_loss: 0.0116 - val_accuracy: 0.9967\n",
            "Epoch 5/5\n",
            "2790/2790 [==============================] - 1387s 497ms/step - loss: 0.0022 - accuracy: 0.9994 - val_loss: 0.0046 - val_accuracy: 0.9991\n"
          ]
        }
      ]
    },
    {
      "cell_type": "code",
      "source": [
        "#/content/drive/MyDrive/projectecg/outpvgg\n",
        "model.save(\"/content/drive/MyDrive/projectecg/outpvgg\")"
      ],
      "metadata": {
        "id": "ygX00vr1mr3u",
        "colab": {
          "base_uri": "https://localhost:8080/"
        },
        "outputId": "fd15d4ee-88d3-4afd-f317-53424cae1913"
      },
      "execution_count": null,
      "outputs": [
        {
          "output_type": "stream",
          "name": "stdout",
          "text": [
            "INFO:tensorflow:Assets written to: /content/drive/MyDrive/projectecg/outpvgg/assets\n"
          ]
        }
      ]
    },
    {
      "cell_type": "code",
      "source": [
        "plt.figure(figsize=(20,10))\n",
        "plt.subplot(1, 2, 1)\n",
        "plt.suptitle('Optimizer : Adam', fontsize=10)\n",
        "plt.ylabel('Loss', fontsize=16)\n",
        "plt.plot(history.history['loss'], label='Training Loss')\n",
        "plt.plot(history.history['val_loss'], label='Validation Loss')\n",
        "plt.legend(loc='upper right')\n",
        "\n",
        "plt.subplot(1, 2, 2)\n",
        "plt.ylabel('Accuracy', fontsize=16)\n",
        "plt.plot(history.history['accuracy'], label='Training Accuracy')\n",
        "plt.plot(history.history['val_accuracy'], label='Validation Accuracy')\n",
        "plt.legend(loc='lower right')\n",
        "plt.show()"
      ],
      "metadata": {
        "id": "h7dbv2v_mNCd",
        "colab": {
          "base_uri": "https://localhost:8080/",
          "height": 663
        },
        "outputId": "ac2b85be-37be-43b6-8c21-af85a69ca154"
      },
      "execution_count": null,
      "outputs": [
        {
          "output_type": "display_data",
          "data": {
            "image/png": "[encoded data removed]",
            "text/plain": [
              "<Figure size 1440x720 with 2 Axes>"
            ]
          },
          "metadata": {
            "needs_background": "light"
          }
        }
      ]
    },
    {
      "cell_type": "code",
      "execution_count": null,
      "metadata": {
        "id": "EY1A4JwZJ1Bn"
      },
      "outputs": [],
      "source": [
        "#reconstructed_model = keras.models.load_model(\"/content/drive/MyDrive/my_modelv2\")\n",
        "model = keras.models.load_model('/content/drive/MyDrive/projectecg/outpvgg')"
      ]
    },
    {
      "cell_type": "code",
      "source": [
        "y_true = test_generator.classes"
      ],
      "metadata": {
        "id": "9YxMW605s7dD"
      },
      "execution_count": null,
      "outputs": []
    },
    {
      "cell_type": "code",
      "source": [
        "y_true"
      ],
      "metadata": {
        "id": "BAVFqhsls-Ug",
        "colab": {
          "base_uri": "https://localhost:8080/"
        },
        "outputId": "8b0affdc-8900-429f-ace7-e2e0d2355cb9"
      },
      "execution_count": null,
      "outputs": [
        {
          "output_type": "execute_result",
          "data": {
            "text/plain": [
              "array([0, 0, 0, ..., 5, 5, 5], dtype=int32)"
            ]
          },
          "metadata": {},
          "execution_count": 18
        }
      ]
    },
    {
      "cell_type": "code",
      "source": [
        "y_pred_prob = model.predict(test_generator)"
      ],
      "metadata": {
        "id": "TcdLkCd7tA9o"
      },
      "execution_count": null,
      "outputs": []
    },
    {
      "cell_type": "code",
      "source": [
        "y_pred = tf.argmax(y_pred_prob, axis=-1)"
      ],
      "metadata": {
        "id": "fOLGN42RtD8L"
      },
      "execution_count": null,
      "outputs": []
    },
    {
      "cell_type": "code",
      "source": [
        "y_pred = y_pred.numpy()\n",
        "y_pred"
      ],
      "metadata": {
        "id": "pjc8MTEwtGpV",
        "colab": {
          "base_uri": "https://localhost:8080/"
        },
        "outputId": "17e42566-8e8c-4c76-f9ce-3f9930cd7e29"
      },
      "execution_count": null,
      "outputs": [
        {
          "output_type": "execute_result",
          "data": {
            "text/plain": [
              "array([0, 2, 0, ..., 5, 5, 5])"
            ]
          },
          "metadata": {},
          "execution_count": 21
        }
      ]
    },
    {
      "cell_type": "code",
      "source": [
        "print(classification_report(y_true, y_pred, target_names = classes))"
      ],
      "metadata": {
        "id": "41ehTr4BtKLJ",
        "colab": {
          "base_uri": "https://localhost:8080/"
        },
        "outputId": "ddd9f8a0-727e-4fc0-a56d-d79af5761130"
      },
      "execution_count": null,
      "outputs": [
        {
          "output_type": "stream",
          "name": "stdout",
          "text": [
            "              precision    recall  f1-score   support\n",
            "\n",
            "           F       1.00      0.98      0.99       161\n",
            "           M       1.00      0.99      1.00      2101\n",
            "           N       1.00      1.00      1.00     18926\n",
            "           Q       1.00      1.00      1.00      1608\n",
            "           S       1.00      1.00      1.00       556\n",
            "           V       0.99      1.00      0.99      1447\n",
            "\n",
            "    accuracy                           1.00     24799\n",
            "   macro avg       1.00      1.00      1.00     24799\n",
            "weighted avg       1.00      1.00      1.00     24799\n",
            "\n"
          ]
        }
      ]
    },
    {
      "cell_type": "code",
      "source": [
        "from sklearn.metrics import confusion_matrix\n",
        "cm = confusion_matrix(y_true, y_pred)\n",
        "cm"
      ],
      "metadata": {
        "id": "kInt-msBtM6J",
        "colab": {
          "base_uri": "https://localhost:8080/"
        },
        "outputId": "c46ffd53-c46c-439d-c07c-b375f0fc8d6a"
      },
      "execution_count": null,
      "outputs": [
        {
          "output_type": "execute_result",
          "data": {
            "text/plain": [
              "array([[  158,     0,     3,     0,     0,     0],\n",
              "       [    0,  2090,     0,     0,     0,    11],\n",
              "       [    0,     0, 18922,     0,     0,     4],\n",
              "       [    0,     0,     0,  1606,     0,     2],\n",
              "       [    0,     0,     0,     0,   556,     0],\n",
              "       [    0,     0,     0,     0,     0,  1447]])"
            ]
          },
          "metadata": {},
          "execution_count": 23
        }
      ]
    },
    {
      "cell_type": "code",
      "source": [
        "ax = plt.subplot()\n",
        "sns.heatmap(cm, annot=True, fmt='g', ax=ax);  #annot=True to annotate cells, ftm='g' to disable scientific notation\n",
        "\n",
        "# labels, title and ticks\n",
        "ax.set_xlabel('Predicted labels');ax.set_ylabel('True labels'); \n",
        "ax.set_title('Confusion Matrix'); \n",
        "ax.xaxis.set_ticklabels(classes); ax.yaxis.set_ticklabels(classes);"
      ],
      "metadata": {
        "id": "PQuaxuyotQTW",
        "colab": {
          "base_uri": "https://localhost:8080/",
          "height": 295
        },
        "outputId": "087e7db6-ad95-484e-982d-cb45c5782b8a"
      },
      "execution_count": null,
      "outputs": [
        {
          "output_type": "display_data",
          "data": {
            "image/png": "[encoded data removed]",
            "text/plain": [
              "<Figure size 432x288 with 2 Axes>"
            ]
          },
          "metadata": {
            "needs_background": "light"
          }
        }
      ]
    },
    {
      "cell_type": "code",
      "source": [
        "print(\"Accuracy = \", scores[1])"
      ],
      "metadata": {
        "id": "qzZN0FNGtyf7"
      },
      "execution_count": null,
      "outputs": []
    },
    {
      "cell_type": "code",
      "source": [
        "training_scores = model.evaluate(generator)\n",
        "print(\"Accuracy = \", training_scores[1])"
      ],
      "metadata": {
        "id": "OFdb68oVt1i1"
      },
      "execution_count": null,
      "outputs": []
    },
    {
      "cell_type": "code",
      "source": [
        "validation_scores = model.evaluate(validation_generator)\n",
        "print(\"Accuracy = \", validation_scores[1])"
      ],
      "metadata": {
        "id": "bszQPRF-t4Qt"
      },
      "execution_count": null,
      "outputs": []
    }
  ],
  "metadata": {
    "colab": {
      "collapsed_sections": [],
      "name": "99acuracyproject16.ipynb",
      "provenance": [],
      "mount_file_id": "1qqu850qsJDbQaG4wEXCubJEtVzAIruwA",
      "authorship_tag": "ABX9TyNVMlUqI2eyrGd3UtcLKfNO",
      "include_colab_link": true
    },
    "kernelspec": {
      "display_name": "Python 3",
      "name": "python3"
    },
    "language_info": {
      "name": "python"
    }
  },
  "nbformat": 4,
  "nbformat_minor": 0
}